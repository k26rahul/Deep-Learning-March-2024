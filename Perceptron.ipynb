{
 "cells": [
  {
   "cell_type": "code",
   "execution_count": 168,
   "metadata": {},
   "outputs": [],
   "source": [
    "import numpy as np"
   ]
  },
  {
   "cell_type": "markdown",
   "metadata": {},
   "source": [
    "# `class Perceptron`"
   ]
  },
  {
   "cell_type": "code",
   "execution_count": 169,
   "metadata": {},
   "outputs": [],
   "source": [
    "class Perceptron:\n",
    "  def __init__(self, num_inputs, weights=None, bias=None):\n",
    "    if weights is None:\n",
    "      self.weights = np.random.rand(num_inputs)\n",
    "    else:\n",
    "      self.weights = np.array(weights)\n",
    "\n",
    "    if bias is None:\n",
    "      self.bias = np.random.rand()\n",
    "    else:\n",
    "      self.bias = bias\n",
    "\n",
    "  def predict(self, inputs, debug=True):\n",
    "    activation = self.calculate_activation(inputs)\n",
    "    thresholded_activation = self.threshold_activation(activation)\n",
    "    if debug:\n",
    "      print(f\"{activation=}, {thresholded_activation=}\")\n",
    "    return thresholded_activation\n",
    "\n",
    "  def calculate_activation(self, inputs):\n",
    "    return np.dot(inputs, self.weights) + self.bias\n",
    "\n",
    "  def threshold_activation(self, activation):\n",
    "    return 1 if activation >= 0 else 0\n",
    "\n",
    "  def train(self, training_inputs, labels, learning_rate, epochs):\n",
    "    training_inputs = np.array(training_inputs)\n",
    "\n",
    "    for _ in range(epochs):\n",
    "      for inputs, label in zip(training_inputs, labels):\n",
    "        prediction = self.predict(inputs, debug=False)\n",
    "        delta = label - prediction\n",
    "        self.update_weights(inputs, delta, learning_rate)\n",
    "        self.update_bias(delta, learning_rate)\n",
    "\n",
    "  def update_weights(self, inputs, delta, learning_rate):\n",
    "    self.weights += learning_rate * delta * inputs\n",
    "\n",
    "  def update_bias(self, delta, learning_rate):\n",
    "    self.bias += learning_rate * delta"
   ]
  },
  {
   "cell_type": "code",
   "execution_count": 170,
   "metadata": {},
   "outputs": [],
   "source": [
    "def test_perceptron(perceptron, test_name, input_combinations):\n",
    "  \"\"\"\n",
    "  Test a perceptron and print its predictions for all input combinations.\n",
    "\n",
    "  Args:\n",
    "  perceptron (Perceptron): Perceptron instance to test.\n",
    "  test_name (str): Name of the test (e.g., \"AND\", \"OR\", \"NOT\", \"NAND\").\n",
    "  input_combinations (list of tuples): List of input combinations to test.\n",
    "\n",
    "  Returns:\n",
    "  None\n",
    "  \"\"\"\n",
    "  print(f\"{test_name} Gate Truth Table:\")\n",
    "  print()\n",
    "  for inputs in input_combinations:\n",
    "    prediction = perceptron.predict(inputs)\n",
    "    print(f\"Inputs: {inputs}, Prediction: {prediction}\")\n",
    "    print()"
   ]
  },
  {
   "cell_type": "markdown",
   "metadata": {},
   "source": [
    "# `input_combinations`"
   ]
  },
  {
   "cell_type": "code",
   "execution_count": 171,
   "metadata": {},
   "outputs": [],
   "source": [
    "input_combinations = [(0, 0), (0, 1), (1, 0), (1, 1)]"
   ]
  },
  {
   "cell_type": "markdown",
   "metadata": {},
   "source": [
    "# AND Gate"
   ]
  },
  {
   "cell_type": "code",
   "execution_count": 172,
   "metadata": {},
   "outputs": [
    {
     "name": "stdout",
     "output_type": "stream",
     "text": [
      "AND Gate Truth Table:\n",
      "\n",
      "activation=-1.5, thresholded_activation=0\n",
      "Inputs: (0, 0), Prediction: 0\n",
      "\n",
      "activation=-0.5, thresholded_activation=0\n",
      "Inputs: (0, 1), Prediction: 0\n",
      "\n",
      "activation=-0.5, thresholded_activation=0\n",
      "Inputs: (1, 0), Prediction: 0\n",
      "\n",
      "activation=0.5, thresholded_activation=1\n",
      "Inputs: (1, 1), Prediction: 1\n",
      "\n"
     ]
    }
   ],
   "source": [
    "and_weights = [1, 1]\n",
    "and_bias = -1.5\n",
    "and_perceptron = Perceptron(num_inputs=2, weights=and_weights, bias=and_bias)\n",
    "test_perceptron(and_perceptron, \"AND\", input_combinations)"
   ]
  },
  {
   "cell_type": "markdown",
   "metadata": {},
   "source": [
    "# OR Gate"
   ]
  },
  {
   "cell_type": "code",
   "execution_count": 173,
   "metadata": {},
   "outputs": [
    {
     "name": "stdout",
     "output_type": "stream",
     "text": [
      "OR Gate Truth Table:\n",
      "\n",
      "activation=-0.5, thresholded_activation=0\n",
      "Inputs: (0, 0), Prediction: 0\n",
      "\n",
      "activation=0.5, thresholded_activation=1\n",
      "Inputs: (0, 1), Prediction: 1\n",
      "\n",
      "activation=0.5, thresholded_activation=1\n",
      "Inputs: (1, 0), Prediction: 1\n",
      "\n",
      "activation=1.5, thresholded_activation=1\n",
      "Inputs: (1, 1), Prediction: 1\n",
      "\n"
     ]
    }
   ],
   "source": [
    "or_weights = [1, 1]\n",
    "or_bias = -0.5\n",
    "or_perceptron = Perceptron(num_inputs=2, weights=or_weights, bias=or_bias)\n",
    "test_perceptron(or_perceptron, \"OR\", input_combinations)"
   ]
  },
  {
   "cell_type": "markdown",
   "metadata": {},
   "source": [
    "# NOT Gate"
   ]
  },
  {
   "cell_type": "code",
   "execution_count": 174,
   "metadata": {},
   "outputs": [
    {
     "name": "stdout",
     "output_type": "stream",
     "text": [
      "NOT Gate Truth Table:\n",
      "\n",
      "activation=0.5, thresholded_activation=1\n",
      "Inputs: (0,), Prediction: 1\n",
      "\n",
      "activation=-0.5, thresholded_activation=0\n",
      "Inputs: (1,), Prediction: 0\n",
      "\n"
     ]
    }
   ],
   "source": [
    "not_weights = [-1]\n",
    "not_bias = 0.5\n",
    "not_perceptron = Perceptron(num_inputs=1, weights=not_weights, bias=not_bias)\n",
    "test_perceptron(not_perceptron, \"NOT\", [(0,), (1,)])"
   ]
  },
  {
   "cell_type": "markdown",
   "metadata": {},
   "source": [
    "# NAND Gate"
   ]
  },
  {
   "cell_type": "code",
   "execution_count": 175,
   "metadata": {},
   "outputs": [
    {
     "name": "stdout",
     "output_type": "stream",
     "text": [
      "NAND Gate Truth Table:\n",
      "\n",
      "activation=1.5, thresholded_activation=1\n",
      "Inputs: (0, 0), Prediction: 1\n",
      "\n",
      "activation=0.5, thresholded_activation=1\n",
      "Inputs: (0, 1), Prediction: 1\n",
      "\n",
      "activation=0.5, thresholded_activation=1\n",
      "Inputs: (1, 0), Prediction: 1\n",
      "\n",
      "activation=-0.5, thresholded_activation=0\n",
      "Inputs: (1, 1), Prediction: 0\n",
      "\n"
     ]
    }
   ],
   "source": [
    "nand_weights = [-1, -1]\n",
    "nand_bias = 1.5\n",
    "nand_perceptron = Perceptron(\n",
    "    num_inputs=2, weights=nand_weights, bias=nand_bias)\n",
    "test_perceptron(nand_perceptron, \"NAND\", input_combinations)"
   ]
  },
  {
   "cell_type": "markdown",
   "metadata": {},
   "source": [
    "# `train_test_perceptron`"
   ]
  },
  {
   "cell_type": "code",
   "execution_count": 176,
   "metadata": {},
   "outputs": [],
   "source": [
    "def train_test_perceptron(perceptron, test_name, input_combinations, labels, learning_rate, epochs):\n",
    "  \"\"\"\n",
    "  Train a perceptron for a given logic function, print its final weights and bias,\n",
    "  and test its predictions for all input combinations.\n",
    "\n",
    "  Args:\n",
    "  perceptron (Perceptron): Perceptron instance to train and test.\n",
    "  test_name (str): Name of the test (e.g., \"AND\", \"OR\", \"NOT\", \"NAND\").\n",
    "  input_combinations (list of tuples): List of input combinations for training and testing.\n",
    "  labels (list): List of labels corresponding to the input combinations.\n",
    "  learning_rate (float): Learning rate for training.\n",
    "  epochs (int): Number of training epochs.\n",
    "\n",
    "  Returns:\n",
    "  None\n",
    "  \"\"\"\n",
    "  print(f\"Training and Testing Perceptron for {test_name} logic:\")\n",
    "  print()\n",
    "\n",
    "  # Train the perceptron\n",
    "  perceptron.train(input_combinations, labels, learning_rate, epochs)\n",
    "\n",
    "  # Print the final weights and bias\n",
    "  print(\"Final Weights:\", perceptron.weights)\n",
    "  print(\"Final Bias:\", perceptron.bias)\n",
    "  print()\n",
    "\n",
    "  # Test the perceptron\n",
    "  print(f\"{test_name} Gate Truth Table:\")\n",
    "  print()\n",
    "  for inputs, label in zip(input_combinations, labels):\n",
    "    prediction = perceptron.predict(inputs, debug=False)\n",
    "    print(f\"Inputs: {inputs}, Label: {label}, Prediction: {prediction}\")"
   ]
  },
  {
   "cell_type": "markdown",
   "metadata": {},
   "source": [
    "# TRAINING AND TESTING"
   ]
  },
  {
   "cell_type": "code",
   "execution_count": 177,
   "metadata": {},
   "outputs": [
    {
     "name": "stdout",
     "output_type": "stream",
     "text": [
      "Training and Testing Perceptron for AND logic:\n",
      "\n",
      "Final Weights: [0.22308991 0.17469778]\n",
      "Final Bias: -0.3342066071121244\n",
      "\n",
      "AND Gate Truth Table:\n",
      "\n",
      "Inputs: (0, 0), Label: 0, Prediction: 0\n",
      "Inputs: (0, 1), Label: 0, Prediction: 0\n",
      "Inputs: (1, 0), Label: 0, Prediction: 0\n",
      "Inputs: (1, 1), Label: 1, Prediction: 1\n"
     ]
    }
   ],
   "source": [
    "input_combinations = [(0, 0), (0, 1), (1, 0), (1, 1)]\n",
    "and_labels = [0, 0, 0, 1]\n",
    "perceptron = Perceptron(num_inputs=2)\n",
    "train_test_perceptron(perceptron, \"AND\", input_combinations,\n",
    "                      and_labels, learning_rate=0.1, epochs=100)"
   ]
  },
  {
   "cell_type": "code",
   "execution_count": 178,
   "metadata": {},
   "outputs": [
    {
     "name": "stdout",
     "output_type": "stream",
     "text": [
      "Training and Testing Perceptron for OR logic:\n",
      "\n",
      "Final Weights: [0.67805395 0.24452752]\n",
      "Final Bias: -0.01447056038141556\n",
      "\n",
      "OR Gate Truth Table:\n",
      "\n",
      "Inputs: (0, 0), Label: 0, Prediction: 0\n",
      "Inputs: (0, 1), Label: 1, Prediction: 1\n",
      "Inputs: (1, 0), Label: 1, Prediction: 1\n",
      "Inputs: (1, 1), Label: 1, Prediction: 1\n"
     ]
    }
   ],
   "source": [
    "input_combinations = [(0, 0), (0, 1), (1, 0), (1, 1)]\n",
    "or_labels = [0, 1, 1, 1]\n",
    "perceptron = Perceptron(num_inputs=2)\n",
    "train_test_perceptron(perceptron, \"OR\", input_combinations,\n",
    "                      or_labels, learning_rate=0.1, epochs=100)"
   ]
  },
  {
   "cell_type": "code",
   "execution_count": 179,
   "metadata": {},
   "outputs": [
    {
     "name": "stdout",
     "output_type": "stream",
     "text": [
      "Training and Testing Perceptron for NOT logic:\n",
      "\n",
      "Final Weights: [-0.240034]\n",
      "Final Bias: 0.07345579639606631\n",
      "\n",
      "NOT Gate Truth Table:\n",
      "\n",
      "Inputs: (0,), Label: 1, Prediction: 1\n",
      "Inputs: (1,), Label: 0, Prediction: 0\n"
     ]
    }
   ],
   "source": [
    "not_input_combinations = [(0,), (1,)]\n",
    "not_labels = [1, 0]\n",
    "perceptron = Perceptron(num_inputs=1)\n",
    "train_test_perceptron(perceptron, \"NOT\", not_input_combinations,\n",
    "                      not_labels, learning_rate=0.1, epochs=100)"
   ]
  },
  {
   "cell_type": "code",
   "execution_count": 180,
   "metadata": {},
   "outputs": [
    {
     "name": "stdout",
     "output_type": "stream",
     "text": [
      "Training and Testing Perceptron for NAND logic:\n",
      "\n",
      "Final Weights: [-0.24765401 -0.15792179]\n",
      "Final Bias: 0.3432164645210437\n",
      "\n",
      "NAND Gate Truth Table:\n",
      "\n",
      "Inputs: (0, 0), Label: 1, Prediction: 1\n",
      "Inputs: (0, 1), Label: 1, Prediction: 1\n",
      "Inputs: (1, 0), Label: 1, Prediction: 1\n",
      "Inputs: (1, 1), Label: 0, Prediction: 0\n"
     ]
    }
   ],
   "source": [
    "input_combinations = [(0, 0), (0, 1), (1, 0), (1, 1)]\n",
    "nand_labels = [1, 1, 1, 0]\n",
    "perceptron = Perceptron(num_inputs=2)\n",
    "train_test_perceptron(perceptron, \"NAND\", input_combinations,\n",
    "                      nand_labels, learning_rate=0.1, epochs=100)"
   ]
  }
 ],
 "metadata": {
  "kernelspec": {
   "display_name": "Python 3",
   "language": "python",
   "name": "python3"
  },
  "language_info": {
   "codemirror_mode": {
    "name": "ipython",
    "version": 3
   },
   "file_extension": ".py",
   "mimetype": "text/x-python",
   "name": "python",
   "nbconvert_exporter": "python",
   "pygments_lexer": "ipython3",
   "version": "3.12.0"
  }
 },
 "nbformat": 4,
 "nbformat_minor": 2
}
