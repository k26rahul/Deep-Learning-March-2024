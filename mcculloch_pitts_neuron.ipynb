{
 "cells": [
  {
   "cell_type": "code",
   "execution_count": 1,
   "metadata": {},
   "outputs": [],
   "source": [
    "import numpy as np\n",
    "import matplotlib.pyplot as plt"
   ]
  },
  {
   "cell_type": "markdown",
   "metadata": {},
   "source": [
    "# `mcculloch_pitts_neuron`"
   ]
  },
  {
   "cell_type": "code",
   "execution_count": 33,
   "metadata": {},
   "outputs": [],
   "source": [
    "def mcculloch_pitts_neuron(inputs, weights, threshold):\n",
    "  inputs = np.array(inputs)\n",
    "  weights = np.array(weights)\n",
    "\n",
    "  weighted_sum = sum(inputs * weights)\n",
    "  return 1 if weighted_sum >= threshold else 0"
   ]
  },
  {
   "cell_type": "markdown",
   "metadata": {},
   "source": [
    "# AND"
   ]
  },
  {
   "cell_type": "code",
   "execution_count": 36,
   "metadata": {},
   "outputs": [
    {
     "name": "stdout",
     "output_type": "stream",
     "text": [
      "1\n",
      "0\n",
      "0\n",
      "0\n"
     ]
    }
   ],
   "source": [
    "weights = [1, 1]\n",
    "threshold = 2\n",
    "print(mcculloch_pitts_neuron(inputs=[1, 1],\n",
    "      weights=weights, threshold=threshold))\n",
    "print(mcculloch_pitts_neuron(inputs=[1, 0],\n",
    "      weights=weights, threshold=threshold))\n",
    "print(mcculloch_pitts_neuron(inputs=[0, 1],\n",
    "      weights=weights, threshold=threshold))\n",
    "print(mcculloch_pitts_neuron(inputs=[0, 0],\n",
    "      weights=weights, threshold=threshold))"
   ]
  },
  {
   "cell_type": "markdown",
   "metadata": {},
   "source": [
    "# OR"
   ]
  },
  {
   "cell_type": "code",
   "execution_count": 37,
   "metadata": {},
   "outputs": [
    {
     "name": "stdout",
     "output_type": "stream",
     "text": [
      "1\n",
      "1\n",
      "1\n",
      "0\n"
     ]
    }
   ],
   "source": [
    "weights = [1, 1]\n",
    "threshold = 1\n",
    "print(mcculloch_pitts_neuron(inputs=[1, 1],\n",
    "      weights=weights, threshold=threshold))\n",
    "print(mcculloch_pitts_neuron(inputs=[1, 0],\n",
    "      weights=weights, threshold=threshold))\n",
    "print(mcculloch_pitts_neuron(inputs=[0, 1],\n",
    "      weights=weights, threshold=threshold))\n",
    "print(mcculloch_pitts_neuron(inputs=[0, 0],\n",
    "      weights=weights, threshold=threshold))"
   ]
  },
  {
   "cell_type": "markdown",
   "metadata": {},
   "source": [
    "# NOT"
   ]
  },
  {
   "cell_type": "code",
   "execution_count": 40,
   "metadata": {},
   "outputs": [
    {
     "name": "stdout",
     "output_type": "stream",
     "text": [
      "0\n",
      "1\n"
     ]
    }
   ],
   "source": [
    "weights = [-1]\n",
    "threshold = 0\n",
    "print(mcculloch_pitts_neuron(inputs=[1], weights=weights, threshold=threshold))\n",
    "print(mcculloch_pitts_neuron(inputs=[0], weights=weights, threshold=threshold))"
   ]
  },
  {
   "cell_type": "markdown",
   "metadata": {},
   "source": [
    "# NAND"
   ]
  },
  {
   "cell_type": "code",
   "execution_count": 41,
   "metadata": {},
   "outputs": [
    {
     "name": "stdout",
     "output_type": "stream",
     "text": [
      "0\n",
      "1\n",
      "1\n",
      "1\n"
     ]
    }
   ],
   "source": [
    "weights = [-1, -1]\n",
    "threshold = -1\n",
    "print(mcculloch_pitts_neuron(inputs=[1, 1],\n",
    "      weights=weights, threshold=threshold))\n",
    "print(mcculloch_pitts_neuron(inputs=[1, 0],\n",
    "      weights=weights, threshold=threshold))\n",
    "print(mcculloch_pitts_neuron(inputs=[0, 1],\n",
    "      weights=weights, threshold=threshold))\n",
    "print(mcculloch_pitts_neuron(inputs=[0, 0],\n",
    "      weights=weights, threshold=threshold))"
   ]
  },
  {
   "cell_type": "markdown",
   "metadata": {},
   "source": [
    "# NOR"
   ]
  },
  {
   "cell_type": "code",
   "execution_count": 43,
   "metadata": {},
   "outputs": [
    {
     "name": "stdout",
     "output_type": "stream",
     "text": [
      "0\n",
      "0\n",
      "0\n",
      "1\n"
     ]
    }
   ],
   "source": [
    "weights = [-1, -1]\n",
    "threshold = 0\n",
    "print(mcculloch_pitts_neuron(inputs=[1, 1],\n",
    "      weights=weights, threshold=threshold))\n",
    "print(mcculloch_pitts_neuron(inputs=[1, 0],\n",
    "      weights=weights, threshold=threshold))\n",
    "print(mcculloch_pitts_neuron(inputs=[0, 1],\n",
    "      weights=weights, threshold=threshold))\n",
    "print(mcculloch_pitts_neuron(inputs=[0, 0],\n",
    "      weights=weights, threshold=threshold))"
   ]
  }
 ],
 "metadata": {
  "kernelspec": {
   "display_name": "Python 3",
   "language": "python",
   "name": "python3"
  },
  "language_info": {
   "codemirror_mode": {
    "name": "ipython",
    "version": 3
   },
   "file_extension": ".py",
   "mimetype": "text/x-python",
   "name": "python",
   "nbconvert_exporter": "python",
   "pygments_lexer": "ipython3",
   "version": "3.12.0"
  }
 },
 "nbformat": 4,
 "nbformat_minor": 2
}
