{
 "cells": [
  {
   "cell_type": "code",
   "execution_count": 1,
   "metadata": {},
   "outputs": [],
   "source": [
    "import numpy as np\n",
    "import matplotlib.pyplot as plt"
   ]
  },
  {
   "cell_type": "code",
   "execution_count": 2,
   "metadata": {},
   "outputs": [],
   "source": [
    "# These are XOR inputs\n",
    "x = np.array([[0, 0, 1, 1], [0, 1, 0, 1]])\n",
    "\n",
    "# These are XOR outputs\n",
    "y = np.array([[0, 1, 1, 0]])"
   ]
  },
  {
   "cell_type": "code",
   "execution_count": 3,
   "metadata": {},
   "outputs": [
    {
     "data": {
      "text/plain": [
       "array([[0, 0, 1, 1],\n",
       "       [0, 1, 0, 1]])"
      ]
     },
     "execution_count": 3,
     "metadata": {},
     "output_type": "execute_result"
    },
    {
     "data": {
      "text/plain": [
       "array([[0, 1, 1, 0]])"
      ]
     },
     "execution_count": 3,
     "metadata": {},
     "output_type": "execute_result"
    }
   ],
   "source": [
    "x\n",
    "y"
   ]
  },
  {
   "cell_type": "code",
   "execution_count": 4,
   "metadata": {},
   "outputs": [
    {
     "name": "stdout",
     "output_type": "stream",
     "text": [
      "x.shape=(2, 4)\n",
      "y.shape=(1, 4)\n"
     ]
    }
   ],
   "source": [
    "print(f'{x.shape=}')\n",
    "print(f'{y.shape=}')"
   ]
  },
  {
   "cell_type": "code",
   "execution_count": 5,
   "metadata": {},
   "outputs": [],
   "source": [
    "# Number of inputs\n",
    "n_x = 2\n",
    "\n",
    "# Number of neurons in output layer\n",
    "n_y = 1\n",
    "\n",
    "# Number of neurons in hidden layer\n",
    "n_h = 2"
   ]
  },
  {
   "cell_type": "code",
   "execution_count": 6,
   "metadata": {},
   "outputs": [],
   "source": [
    "# Total training examples\n",
    "m = x.shape[1]"
   ]
  },
  {
   "cell_type": "code",
   "execution_count": 7,
   "metadata": {},
   "outputs": [],
   "source": [
    "# Learning rate\n",
    "lr = 0.5\n",
    "\n",
    "# Define random seed for consistent results\n",
    "np.random.seed(2)"
   ]
  },
  {
   "cell_type": "code",
   "execution_count": 8,
   "metadata": {},
   "outputs": [],
   "source": [
    "# Define weight matrices for neural network\n",
    "w1 = np.random.rand(n_h, n_x)   # Weight matrix for hidden layer\n",
    "w2 = np.random.rand(n_y, n_h)   # Weight matrix for output layer\n",
    "\n",
    "# I didn't use bias units"
   ]
  },
  {
   "cell_type": "code",
   "execution_count": 9,
   "metadata": {},
   "outputs": [
    {
     "data": {
      "text/plain": [
       "array([[0.4359949 , 0.02592623],\n",
       "       [0.54966248, 0.43532239]])"
      ]
     },
     "execution_count": 9,
     "metadata": {},
     "output_type": "execute_result"
    },
    {
     "data": {
      "text/plain": [
       "array([[0.4203678 , 0.33033482]])"
      ]
     },
     "execution_count": 9,
     "metadata": {},
     "output_type": "execute_result"
    }
   ],
   "source": [
    "w1\n",
    "w2"
   ]
  },
  {
   "cell_type": "code",
   "execution_count": 10,
   "metadata": {},
   "outputs": [
    {
     "data": {
      "text/plain": [
       "0.2046486340378425"
      ]
     },
     "execution_count": 10,
     "metadata": {},
     "output_type": "execute_result"
    },
    {
     "data": {
      "text/plain": [
       "array([0.61927097, 0.29965467, 0.26682728, 0.62113383, 0.52914209])"
      ]
     },
     "execution_count": 10,
     "metadata": {},
     "output_type": "execute_result"
    },
    {
     "data": {
      "text/plain": [
       "array([[0.13457995, 0.51357812, 0.18443987, 0.78533515, 0.85397529],\n",
       "       [0.49423684, 0.84656149, 0.07964548, 0.50524609, 0.0652865 ]])"
      ]
     },
     "execution_count": 10,
     "metadata": {},
     "output_type": "execute_result"
    },
    {
     "data": {
      "text/plain": [
       "array([[[0.42812233, 0.09653092, 0.12715997, 0.59674531, 0.226012  ],\n",
       "        [0.10694568, 0.22030621, 0.34982629, 0.46778748, 0.20174323],\n",
       "        [0.64040673, 0.48306984, 0.50523672, 0.38689265, 0.79363745]],\n",
       "\n",
       "       [[0.58000418, 0.1622986 , 0.70075235, 0.96455108, 0.50000836],\n",
       "        [0.88952006, 0.34161365, 0.56714413, 0.42754596, 0.43674726],\n",
       "        [0.77655918, 0.53560417, 0.95374223, 0.54420816, 0.08209492]]])"
      ]
     },
     "execution_count": 10,
     "metadata": {},
     "output_type": "execute_result"
    }
   ],
   "source": [
    "# generates random numbers from a uniform distribution over the range [0, 1).\n",
    "np.random.rand()\n",
    "np.random.rand(5)\n",
    "np.random.rand(2, 5)\n",
    "np.random.rand(2, 3, 5)"
   ]
  },
  {
   "cell_type": "code",
   "execution_count": 11,
   "metadata": {},
   "outputs": [],
   "source": [
    "# We will use this list to accumulate losses\n",
    "losses = []"
   ]
  },
  {
   "cell_type": "code",
   "execution_count": 12,
   "metadata": {},
   "outputs": [],
   "source": [
    "# I used sigmoid activation function for hidden layer and output\n",
    "def sigmoid(z):\n",
    "  z = 1/(1+np.exp(-z))\n",
    "  return z"
   ]
  },
  {
   "cell_type": "code",
   "execution_count": 13,
   "metadata": {},
   "outputs": [],
   "source": [
    "# Forward propagation\n",
    "def forward_prop(w1, w2, x):\n",
    "  z1 = np.dot(w1, x)\n",
    "  a1 = sigmoid(z1)\n",
    "\n",
    "  z2 = np.dot(w2, a1)\n",
    "  a2 = sigmoid(z2)\n",
    "  return z1, a1, z2, a2"
   ]
  },
  {
   "cell_type": "code",
   "execution_count": 14,
   "metadata": {},
   "outputs": [],
   "source": [
    "# Backward propagation\n",
    "def back_prop(m, w1, w2, z1, a1, z2, a2, y):\n",
    "  dz2 = a2-y\n",
    "  dw2 = np.dot(dz2, a1.T)/m\n",
    "\n",
    "  dz1 = np.dot(w2.T, dz2) * a1 * (1-a1)\n",
    "  dw1 = np.dot(dz1, x.T)/m\n",
    "\n",
    "  dw1 = np.reshape(dw1, w1.shape)\n",
    "  dw2 = np.reshape(dw2, w2.shape)\n",
    "\n",
    "  return dz2, dw2, dz1, dw1"
   ]
  },
  {
   "cell_type": "code",
   "execution_count": 15,
   "metadata": {},
   "outputs": [],
   "source": [
    "lr = 0.9"
   ]
  },
  {
   "cell_type": "code",
   "execution_count": 16,
   "metadata": {},
   "outputs": [],
   "source": [
    "def binary_cross_entropy_loss(y, a2):\n",
    "  m = len(y)\n",
    "  loss = -(1/m) * np.sum(y * np.log(a2) + (1 - y) * np.log(1 - a2))\n",
    "  return loss"
   ]
  },
  {
   "cell_type": "code",
   "execution_count": 17,
   "metadata": {},
   "outputs": [],
   "source": [
    "def mse_loss(y_true, y_pred):\n",
    "  return np.mean(np.square(y_true - y_pred))"
   ]
  },
  {
   "cell_type": "code",
   "execution_count": 18,
   "metadata": {},
   "outputs": [
    {
     "data": {
      "image/png": "[encoded data removed]",
      "text/plain": [
       "<Figure size 640x480 with 1 Axes>"
      ]
     },
     "metadata": {},
     "output_type": "display_data"
    }
   ],
   "source": [
    "iterations = 10000\n",
    "for i in range(iterations):\n",
    "  z1, a1, z2, a2 = forward_prop(w1, w2, x)\n",
    "\n",
    "  loss = binary_cross_entropy_loss(y, a2)\n",
    "  # loss = mse_loss(y, a2)\n",
    "\n",
    "  losses.append(loss)\n",
    "\n",
    "  da2, dw2, dz1, dw1 = back_prop(m, w1, w2, z1, a1, z2, a2, y)\n",
    "\n",
    "  # Parameter updates\n",
    "  w2 = w2-lr*dw2\n",
    "  w1 = w1-lr*dw1\n",
    "\n",
    "# We plot losses to see how our network is doing\n",
    "_ = plt.plot(losses)\n",
    "_ = plt.xlabel(\"EPOCHS\")\n",
    "_ = plt.ylabel(\"Loss value\")"
   ]
  },
  {
   "cell_type": "code",
   "execution_count": 19,
   "metadata": {},
   "outputs": [],
   "source": [
    "def predict(w1, w2, input):\n",
    "  z1, a1, z2, a2 = forward_prop(w1, w2, input)\n",
    "\n",
    "  # print(a2)\n",
    "  # print(np.squeeze(a2))\n",
    "\n",
    "  a2 = np.squeeze(a2) >= 0.5\n",
    "  return a2"
   ]
  },
  {
   "cell_type": "code",
   "execution_count": 20,
   "metadata": {},
   "outputs": [
    {
     "data": {
      "text/plain": [
       "array([[0.89217306, 0.89217096],\n",
       "       [8.17932504, 8.17746632]])"
      ]
     },
     "execution_count": 20,
     "metadata": {},
     "output_type": "execute_result"
    },
    {
     "data": {
      "text/plain": [
       "array([[-42.30248196,  33.38806983]])"
      ]
     },
     "execution_count": 20,
     "metadata": {},
     "output_type": "execute_result"
    }
   ],
   "source": [
    "w1\n",
    "w2"
   ]
  },
  {
   "cell_type": "code",
   "execution_count": 21,
   "metadata": {},
   "outputs": [
    {
     "data": {
      "text/plain": [
       "array([[0, 0, 1, 1],\n",
       "       [0, 1, 0, 1]])"
      ]
     },
     "execution_count": 21,
     "metadata": {},
     "output_type": "execute_result"
    },
    {
     "data": {
      "text/plain": [
       "[0, 1, 1, 0]"
      ]
     },
     "execution_count": 21,
     "metadata": {},
     "output_type": "execute_result"
    }
   ],
   "source": [
    "x\n",
    "[1 if x else 0 for x in predict(w1, w2, x)]"
   ]
  }
 ],
 "metadata": {
  "kernelspec": {
   "display_name": "Python 3",
   "language": "python",
   "name": "python3"
  },
  "language_info": {
   "codemirror_mode": {
    "name": "ipython",
    "version": 3
   },
   "file_extension": ".py",
   "mimetype": "text/x-python",
   "name": "python",
   "nbconvert_exporter": "python",
   "pygments_lexer": "ipython3",
   "version": "3.12.0"
  }
 },
 "nbformat": 4,
 "nbformat_minor": 2
}
